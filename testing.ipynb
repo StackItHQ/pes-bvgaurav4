{
 "cells": [
  {
   "cell_type": "code",
   "execution_count": 1,
   "metadata": {},
   "outputs": [
    {
     "name": "stdout",
     "output_type": "stream",
     "text": [
      "Requirement already satisfied: google-api-python-client in c:\\users\\gaurav b v\\anaconda3\\envs\\myenv\\lib\\site-packages (2.142.0)\n",
      "Collecting google-api-python-client\n",
      "  Downloading google_api_python_client-2.145.0-py2.py3-none-any.whl.metadata (6.7 kB)\n",
      "Requirement already satisfied: google-auth-httplib2 in c:\\users\\gaurav b v\\anaconda3\\envs\\myenv\\lib\\site-packages (0.2.0)\n",
      "Collecting google-auth-oauthlib\n",
      "  Downloading google_auth_oauthlib-1.2.1-py2.py3-none-any.whl.metadata (2.7 kB)\n",
      "Requirement already satisfied: httplib2<1.dev0,>=0.19.0 in c:\\users\\gaurav b v\\anaconda3\\envs\\myenv\\lib\\site-packages (from google-api-python-client) (0.22.0)\n",
      "Requirement already satisfied: google-auth!=2.24.0,!=2.25.0,<3.0.0.dev0,>=1.32.0 in c:\\users\\gaurav b v\\anaconda3\\envs\\myenv\\lib\\site-packages (from google-api-python-client) (2.34.0)\n",
      "Requirement already satisfied: google-api-core!=2.0.*,!=2.1.*,!=2.2.*,!=2.3.0,<3.0.0.dev0,>=1.31.5 in c:\\users\\gaurav b v\\anaconda3\\envs\\myenv\\lib\\site-packages (from google-api-python-client) (2.19.1)\n",
      "Requirement already satisfied: uritemplate<5,>=3.0.1 in c:\\users\\gaurav b v\\anaconda3\\envs\\myenv\\lib\\site-packages (from google-api-python-client) (4.1.1)\n",
      "Collecting requests-oauthlib>=0.7.0 (from google-auth-oauthlib)\n",
      "  Downloading requests_oauthlib-2.0.0-py2.py3-none-any.whl.metadata (11 kB)\n",
      "Requirement already satisfied: googleapis-common-protos<2.0.dev0,>=1.56.2 in c:\\users\\gaurav b v\\anaconda3\\envs\\myenv\\lib\\site-packages (from google-api-core!=2.0.*,!=2.1.*,!=2.2.*,!=2.3.0,<3.0.0.dev0,>=1.31.5->google-api-python-client) (1.63.2)\n",
      "Requirement already satisfied: protobuf!=3.20.0,!=3.20.1,!=4.21.0,!=4.21.1,!=4.21.2,!=4.21.3,!=4.21.4,!=4.21.5,<6.0.0.dev0,>=3.19.5 in c:\\users\\gaurav b v\\anaconda3\\envs\\myenv\\lib\\site-packages (from google-api-core!=2.0.*,!=2.1.*,!=2.2.*,!=2.3.0,<3.0.0.dev0,>=1.31.5->google-api-python-client) (4.25.4)\n",
      "Requirement already satisfied: proto-plus<2.0.0dev,>=1.22.3 in c:\\users\\gaurav b v\\anaconda3\\envs\\myenv\\lib\\site-packages (from google-api-core!=2.0.*,!=2.1.*,!=2.2.*,!=2.3.0,<3.0.0.dev0,>=1.31.5->google-api-python-client) (1.24.0)\n",
      "Requirement already satisfied: requests<3.0.0.dev0,>=2.18.0 in c:\\users\\gaurav b v\\anaconda3\\envs\\myenv\\lib\\site-packages (from google-api-core!=2.0.*,!=2.1.*,!=2.2.*,!=2.3.0,<3.0.0.dev0,>=1.31.5->google-api-python-client) (2.32.3)\n",
      "Requirement already satisfied: cachetools<6.0,>=2.0.0 in c:\\users\\gaurav b v\\anaconda3\\envs\\myenv\\lib\\site-packages (from google-auth!=2.24.0,!=2.25.0,<3.0.0.dev0,>=1.32.0->google-api-python-client) (5.5.0)\n",
      "Requirement already satisfied: pyasn1-modules>=0.2.1 in c:\\users\\gaurav b v\\anaconda3\\envs\\myenv\\lib\\site-packages (from google-auth!=2.24.0,!=2.25.0,<3.0.0.dev0,>=1.32.0->google-api-python-client) (0.4.0)\n",
      "Requirement already satisfied: rsa<5,>=3.1.4 in c:\\users\\gaurav b v\\anaconda3\\envs\\myenv\\lib\\site-packages (from google-auth!=2.24.0,!=2.25.0,<3.0.0.dev0,>=1.32.0->google-api-python-client) (4.9)\n",
      "Requirement already satisfied: pyparsing!=3.0.0,!=3.0.1,!=3.0.2,!=3.0.3,<4,>=2.4.2 in c:\\users\\gaurav b v\\anaconda3\\envs\\myenv\\lib\\site-packages (from httplib2<1.dev0,>=0.19.0->google-api-python-client) (3.1.2)\n",
      "Collecting oauthlib>=3.0.0 (from requests-oauthlib>=0.7.0->google-auth-oauthlib)\n",
      "  Downloading oauthlib-3.2.2-py3-none-any.whl.metadata (7.5 kB)\n",
      "Requirement already satisfied: pyasn1<0.7.0,>=0.4.6 in c:\\users\\gaurav b v\\anaconda3\\envs\\myenv\\lib\\site-packages (from pyasn1-modules>=0.2.1->google-auth!=2.24.0,!=2.25.0,<3.0.0.dev0,>=1.32.0->google-api-python-client) (0.6.0)\n",
      "Requirement already satisfied: charset-normalizer<4,>=2 in c:\\users\\gaurav b v\\anaconda3\\envs\\myenv\\lib\\site-packages (from requests<3.0.0.dev0,>=2.18.0->google-api-core!=2.0.*,!=2.1.*,!=2.2.*,!=2.3.0,<3.0.0.dev0,>=1.31.5->google-api-python-client) (3.3.2)\n",
      "Requirement already satisfied: idna<4,>=2.5 in c:\\users\\gaurav b v\\anaconda3\\envs\\myenv\\lib\\site-packages (from requests<3.0.0.dev0,>=2.18.0->google-api-core!=2.0.*,!=2.1.*,!=2.2.*,!=2.3.0,<3.0.0.dev0,>=1.31.5->google-api-python-client) (2.10)\n",
      "Requirement already satisfied: urllib3<3,>=1.21.1 in c:\\users\\gaurav b v\\anaconda3\\envs\\myenv\\lib\\site-packages (from requests<3.0.0.dev0,>=2.18.0->google-api-core!=2.0.*,!=2.1.*,!=2.2.*,!=2.3.0,<3.0.0.dev0,>=1.31.5->google-api-python-client) (2.2.2)\n",
      "Requirement already satisfied: certifi>=2017.4.17 in c:\\users\\gaurav b v\\anaconda3\\envs\\myenv\\lib\\site-packages (from requests<3.0.0.dev0,>=2.18.0->google-api-core!=2.0.*,!=2.1.*,!=2.2.*,!=2.3.0,<3.0.0.dev0,>=1.31.5->google-api-python-client) (2024.7.4)\n",
      "Downloading google_api_python_client-2.145.0-py2.py3-none-any.whl (12.2 MB)\n",
      "   ---------------------------------------- 0.0/12.2 MB ? eta -:--:--\n",
      "   -- ------------------------------------- 0.8/12.2 MB 8.5 MB/s eta 0:00:02\n",
      "   ------------ --------------------------- 3.9/12.2 MB 12.4 MB/s eta 0:00:01\n",
      "   ---------------------- ----------------- 6.8/12.2 MB 13.1 MB/s eta 0:00:01\n",
      "   ------------------------------- -------- 9.7/12.2 MB 13.1 MB/s eta 0:00:01\n",
      "   ---------------------------------------- 12.2/12.2 MB 12.8 MB/s eta 0:00:00\n",
      "Downloading google_auth_oauthlib-1.2.1-py2.py3-none-any.whl (24 kB)\n",
      "Downloading requests_oauthlib-2.0.0-py2.py3-none-any.whl (24 kB)\n",
      "Downloading oauthlib-3.2.2-py3-none-any.whl (151 kB)\n",
      "Installing collected packages: oauthlib, requests-oauthlib, google-auth-oauthlib, google-api-python-client\n",
      "  Attempting uninstall: google-api-python-client\n",
      "    Found existing installation: google-api-python-client 2.142.0\n",
      "    Uninstalling google-api-python-client-2.142.0:\n",
      "      Successfully uninstalled google-api-python-client-2.142.0\n",
      "Successfully installed google-api-python-client-2.145.0 google-auth-oauthlib-1.2.1 oauthlib-3.2.2 requests-oauthlib-2.0.0\n"
     ]
    }
   ],
   "source": [
    "!pip install --upgrade google-api-python-client google-auth-httplib2 google-auth-oauthlib"
   ]
  },
  {
   "cell_type": "code",
   "execution_count": 40,
   "metadata": {},
   "outputs": [
    {
     "name": "stdout",
     "output_type": "stream",
     "text": [
      "Please visit this URL to authorize this application: https://accounts.google.com/o/oauth2/auth?response_type=code&client_id=348694015031-1hdg0it1h1el2skt1mnkg5ci1m09lqma.apps.googleusercontent.com&redirect_uri=http%3A%2F%2Flocalhost%3A53681%2F&scope=https%3A%2F%2Fwww.googleapis.com%2Fauth%2Fspreadsheets&state=lafhsBGnB35TEfLCl4WwWwTJrllRyg&access_type=offline\n",
      "<HttpError 400 when requesting https://sheets.googleapis.com/v4/spreadsheets/10N4gwYVaLpDd7WEz5QtemhS-7Jck_j9QDhipk4SSMEE/values/Class%20Data%21A2%3AE?alt=json returned \"Unable to parse range: Class Data!A2:E\". Details: \"Unable to parse range: Class Data!A2:E\">\n"
     ]
    }
   ],
   "source": [
    "import os.path\n",
    "\n",
    "from google.auth.transport.requests import Request\n",
    "from google.oauth2.credentials import Credentials\n",
    "from google_auth_oauthlib.flow import InstalledAppFlow\n",
    "from googleapiclient.discovery import build\n",
    "from googleapiclient.errors import HttpError\n",
    "\n",
    "# If modifying these scopes, delete the file token.json.\n",
    "SCOPES = [\"https://www.googleapis.com/auth/spreadsheets\"]\n",
    "\n",
    "# The ID and range of a sample spreadsheet.\n",
    "# SAMPLE_SPREADSHEET_ID = \"1BxiMVs0XRA5nFMdKvBdBZjgmUUqptlbs74OgvE2upms\"\n",
    "SAMPLE_SPREADSHEET_ID=\"10N4gwYVaLpDd7WEz5QtemhS-7Jck_j9QDhipk4SSMEE\"\n",
    "SAMPLE_RANGE_NAME = \"Class Data!A2:E\"\n",
    "\n",
    "\n",
    "def main():\n",
    "  \"\"\"Shows basic usage of the Sheets API.\n",
    "  Prints values from a sample spreadsheet.\n",
    "  \"\"\"\n",
    "  creds = None\n",
    "  # The file token.json stores the user's access and refresh tokens, and is\n",
    "  # created automatically when the authorization flow completes for the first\n",
    "  # time.\n",
    "  if os.path.exists(\"token.json\"):\n",
    "    creds = Credentials.from_authorized_user_file(\"token.json\", SCOPES)\n",
    "  # If there are no (valid) credentials available, let the user log in.\n",
    "  if not creds or not creds.valid:\n",
    "    if creds and creds.expired and creds.refresh_token:\n",
    "      creds.refresh(Request())\n",
    "    else:\n",
    "      flow = InstalledAppFlow.from_client_secrets_file(\n",
    "          \"client_secret_348694015031-1hdg0it1h1el2skt1mnkg5ci1m09lqma.apps.googleusercontent.com.json\", SCOPES\n",
    "      )\n",
    "      creds = flow.run_local_server(port=0)\n",
    "    # Save the credentials for the next run\n",
    "    with open(\"token.json\", \"w\") as token:\n",
    "      token.write(creds.to_json())\n",
    "\n",
    "  try:\n",
    "    service = build(\"sheets\", \"v4\", credentials=creds)\n",
    "\n",
    "    # Call the Sheets API\n",
    "    sheet = service.spreadsheets()\n",
    "    result = (\n",
    "        sheet.values()\n",
    "        .get(spreadsheetId=SAMPLE_SPREADSHEET_ID, range=SAMPLE_RANGE_NAME)\n",
    "        .execute()\n",
    "    )\n",
    "    values = result.get(\"values\", [])\n",
    "\n",
    "    if not values:\n",
    "      print(\"No data found.\")\n",
    "      return\n",
    "\n",
    "    print(\"Name, Major:\")\n",
    "    for row in values:\n",
    "      # Print columns A and E, which correspond to indices 0 and 4.\n",
    "      print(f\"{row[0]}, {row[4]}\")\n",
    "  except HttpError as err:\n",
    "    print(err)\n",
    "\n",
    "\n",
    "if __name__ == \"__main__\":\n",
    "  main()"
   ]
  },
  {
   "cell_type": "code",
   "execution_count": 53,
   "metadata": {},
   "outputs": [
    {
     "name": "stdout",
     "output_type": "stream",
     "text": [
      "Spreadsheet ID: 1-M1qF5w_8lN1ky6e8I9MspHdG4lxSxCyeFJ9Serivmc\n"
     ]
    }
   ],
   "source": [
    "import google.auth\n",
    "from googleapiclient.discovery import build\n",
    "from googleapiclient.errors import HttpError\n",
    "\n",
    "\n",
    "def create(title):\n",
    "  \"\"\"\n",
    "  Creates the Sheet the user has access to.\n",
    "  Load pre-authorized user credentials from the environment.\n",
    "  TODO(developer) - See https://developers.google.com/identity\n",
    "  for guides on implementing OAuth2 for the application.\n",
    "  \"\"\"\n",
    "  if os.path.exists(\"token.json\"):\n",
    "    creds = Credentials.from_authorized_user_file(\"token.json\", SCOPES)\n",
    "  # If there are no (valid) credentials available, let the user log in.\n",
    "  if not creds or not creds.valid:\n",
    "    if creds and creds.expired and creds.refresh_token:\n",
    "      creds.refresh(Request())\n",
    "    else:\n",
    "      flow = InstalledAppFlow.from_client_secrets_file(\n",
    "          \"client_secret_348694015031-1hdg0it1h1el2skt1mnkg5ci1m09lqma.apps.googleusercontent.com.json\", SCOPES\n",
    "      )  # pylint: disable=maybe-no-member\n",
    "  try:\n",
    "    service = build(\"sheets\", \"v4\", credentials=creds)\n",
    "    spreadsheet = {\"properties\": {\"title\": title}}\n",
    "    spreadsheet = (\n",
    "        service.spreadsheets()\n",
    "        .create(body=spreadsheet, fields=\"spreadsheetId\")\n",
    "        .execute()\n",
    "    )\n",
    "    print(f\"Spreadsheet ID: {(spreadsheet.get('spreadsheetId'))}\")\n",
    "    return spreadsheet.get(\"spreadsheetId\")\n",
    "  except HttpError as error:\n",
    "    print(f\"An error occurred: {error}\")\n",
    "    return error\n",
    "\n",
    "\n",
    "if __name__ == \"__main__\":\n",
    "  # Pass: title\n",
    "  create(\"mysheet1\")"
   ]
  },
  {
   "cell_type": "code",
   "execution_count": null,
   "metadata": {},
   "outputs": [],
   "source": [
    "https://docs.google.com/spreadsheets/d/1f5pEt15-lYLaO0I7fRW_GwA7xtcRsxdXwIbEvLTwvyM/edit?gid=0#gid=0"
   ]
  },
  {
   "cell_type": "code",
   "execution_count": 49,
   "metadata": {},
   "outputs": [
    {
     "name": "stdout",
     "output_type": "stream",
     "text": [
      "{'properties': {'title': 'mysheet1'}} <googleapiclient.discovery.Resource object at 0x000002CCCEA357F0>\n",
      "Spreadsheet ID: 11FywQnnQgvK_BzV9D2hueTPTVLuG1zwbz2qauwwlstE\n"
     ]
    }
   ],
   "source": [
    "import google.auth\n",
    "from googleapiclient.discovery import build\n",
    "from googleapiclient.errors import HttpError\n",
    "\n",
    "\n",
    "def create(title):\n",
    "  \"\"\"\n",
    "  Creates the Sheet the user has access to.\n",
    "  Load pre-authorized user credentials from the environment.\n",
    "  TODO(developer) - See https://developers.google.com/identity\n",
    "  for guides on implementing OAuth2 for the application.\n",
    "  \"\"\"\n",
    "  creds = Credentials.from_authorized_user_file(\"token.json\", SCOPES)\n",
    "  # pylint: disable=maybe-no-member\n",
    "  try:\n",
    "    service = build(\"sheets\", \"v4\", credentials=creds)\n",
    "    spreadsheet = {\"properties\": {\"title\": title}}\n",
    "    print(spreadsheet,service)\n",
    "    spreadsheet = (\n",
    "        service.spreadsheets()\n",
    "        .create(body=spreadsheet, fields=\"spreadsheetId\")\n",
    "        .execute()\n",
    "    )\n",
    "    print(f\"Spreadsheet ID: {(spreadsheet.get('spreadsheetId'))}\")\n",
    "    return spreadsheet.get(\"spreadsheetId\")\n",
    "  except HttpError as error:\n",
    "    print(f\"An error occurred: {error}\")\n",
    "    return error\n",
    "\n",
    "\n",
    "if __name__ == \"__main__\":\n",
    "  # Pass: title\n",
    "  create(\"mysheet1\")"
   ]
  },
  {
   "cell_type": "code",
   "execution_count": 28,
   "metadata": {},
   "outputs": [
    {
     "name": "stdout",
     "output_type": "stream",
     "text": [
      "Collecting gspread\n",
      "  Downloading gspread-6.1.2-py3-none-any.whl.metadata (11 kB)\n",
      "Requirement already satisfied: google-auth>=1.12.0 in c:\\users\\gaurav b v\\anaconda3\\envs\\myenv\\lib\\site-packages (from gspread) (2.34.0)\n",
      "Requirement already satisfied: google-auth-oauthlib>=0.4.1 in c:\\users\\gaurav b v\\anaconda3\\envs\\myenv\\lib\\site-packages (from gspread) (1.2.1)\n",
      "Requirement already satisfied: cachetools<6.0,>=2.0.0 in c:\\users\\gaurav b v\\anaconda3\\envs\\myenv\\lib\\site-packages (from google-auth>=1.12.0->gspread) (5.5.0)\n",
      "Requirement already satisfied: pyasn1-modules>=0.2.1 in c:\\users\\gaurav b v\\anaconda3\\envs\\myenv\\lib\\site-packages (from google-auth>=1.12.0->gspread) (0.4.0)\n",
      "Requirement already satisfied: rsa<5,>=3.1.4 in c:\\users\\gaurav b v\\anaconda3\\envs\\myenv\\lib\\site-packages (from google-auth>=1.12.0->gspread) (4.9)\n",
      "Requirement already satisfied: requests-oauthlib>=0.7.0 in c:\\users\\gaurav b v\\anaconda3\\envs\\myenv\\lib\\site-packages (from google-auth-oauthlib>=0.4.1->gspread) (2.0.0)\n",
      "Requirement already satisfied: pyasn1<0.7.0,>=0.4.6 in c:\\users\\gaurav b v\\anaconda3\\envs\\myenv\\lib\\site-packages (from pyasn1-modules>=0.2.1->google-auth>=1.12.0->gspread) (0.6.0)\n",
      "Requirement already satisfied: oauthlib>=3.0.0 in c:\\users\\gaurav b v\\anaconda3\\envs\\myenv\\lib\\site-packages (from requests-oauthlib>=0.7.0->google-auth-oauthlib>=0.4.1->gspread) (3.2.2)\n",
      "Requirement already satisfied: requests>=2.0.0 in c:\\users\\gaurav b v\\anaconda3\\envs\\myenv\\lib\\site-packages (from requests-oauthlib>=0.7.0->google-auth-oauthlib>=0.4.1->gspread) (2.32.3)\n",
      "Requirement already satisfied: charset-normalizer<4,>=2 in c:\\users\\gaurav b v\\anaconda3\\envs\\myenv\\lib\\site-packages (from requests>=2.0.0->requests-oauthlib>=0.7.0->google-auth-oauthlib>=0.4.1->gspread) (3.3.2)\n",
      "Requirement already satisfied: idna<4,>=2.5 in c:\\users\\gaurav b v\\anaconda3\\envs\\myenv\\lib\\site-packages (from requests>=2.0.0->requests-oauthlib>=0.7.0->google-auth-oauthlib>=0.4.1->gspread) (2.10)\n",
      "Requirement already satisfied: urllib3<3,>=1.21.1 in c:\\users\\gaurav b v\\anaconda3\\envs\\myenv\\lib\\site-packages (from requests>=2.0.0->requests-oauthlib>=0.7.0->google-auth-oauthlib>=0.4.1->gspread) (2.2.2)\n",
      "Requirement already satisfied: certifi>=2017.4.17 in c:\\users\\gaurav b v\\anaconda3\\envs\\myenv\\lib\\site-packages (from requests>=2.0.0->requests-oauthlib>=0.7.0->google-auth-oauthlib>=0.4.1->gspread) (2024.7.4)\n",
      "Downloading gspread-6.1.2-py3-none-any.whl (57 kB)\n",
      "Installing collected packages: gspread\n",
      "Successfully installed gspread-6.1.2\n"
     ]
    }
   ],
   "source": [
    "!pip install gspread"
   ]
  },
  {
   "cell_type": "code",
   "execution_count": 1,
   "metadata": {},
   "outputs": [
    {
     "name": "stdout",
     "output_type": "stream",
     "text": [
      "['index_1', 'Sheet2']\n"
     ]
    }
   ],
   "source": [
    "import gspread\n",
    "from google.oauth2.credentials import Credentials\n",
    "import google.auth\n",
    "from googleapiclient.discovery import build\n",
    "from googleapiclient.errors import HttpError\n",
    "SCOPES = [\"https://www.googleapis.com/auth/spreadsheets\"]\n",
    "creds = Credentials.from_authorized_user_file(\"token.json\",scopes=SCOPES)\n",
    "client=gspread.authorize(creds)\n",
    "\n",
    "SAMPLE_SPREADSHEET_ID=\"1cEIjB1tjuKEZxH8r0_AAbi4dKt4y2e0BMz9SFz_2GVA\"\n",
    "workbook =client.open_by_key(SAMPLE_SPREADSHEET_ID)\n",
    "\n",
    "sheets=map(lambda x: x.title,workbook.worksheets())\n",
    "print(list(sheets))\n",
    "# sheet=workbook.worksheet(\"Sheet1\")\n",
    "# sheet.update_title(\"hello world\")"
   ]
  },
  {
   "cell_type": "code",
   "execution_count": 2,
   "metadata": {},
   "outputs": [],
   "source": [
    "def updationg_cells(x,y,value,id,s):\n",
    "    SCOPES = [\"https://www.googleapis.com/auth/spreadsheets\"]\n",
    "    creds = Credentials.from_authorized_user_file(\"token.json\",scopes=SCOPES)\n",
    "    client=gspread.authorize(creds)\n",
    "\n",
    "    SAMPLE_SPREADSHEET_ID=id\n",
    "    workbook =client.open_by_key(SAMPLE_SPREADSHEET_ID)\n",
    "    sheet=workbook.worksheet(s)\n",
    "    print(sheet)\n",
    "    if sheet:\n",
    "        cell_address = f\"{x}{y}\"\n",
    "        sheet.update_acell(cell_address, value)\n",
    "        return True\n",
    "    return False"
   ]
  },
  {
   "cell_type": "code",
   "execution_count": 5,
   "metadata": {},
   "outputs": [
    {
     "name": "stdout",
     "output_type": "stream",
     "text": [
      "<Worksheet 'index_1' id:0>\n"
     ]
    },
    {
     "data": {
      "text/plain": [
       "True"
      ]
     },
     "execution_count": 5,
     "metadata": {},
     "output_type": "execute_result"
    }
   ],
   "source": [
    "updationg_cells(\"C\",4,\"vulcan\",\"1cEIjB1tjuKEZxH8r0_AAbi4dKt4y2e0BMz9SFz_2GVA\",\"index_1\")"
   ]
  },
  {
   "cell_type": "code",
   "execution_count": 28,
   "metadata": {},
   "outputs": [
    {
     "name": "stdout",
     "output_type": "stream",
     "text": [
      "Collecting ngrok\n",
      "  Downloading ngrok-1.4.0-cp37-abi3-win_amd64.whl.metadata (19 kB)\n",
      "Downloading ngrok-1.4.0-cp37-abi3-win_amd64.whl (3.0 MB)\n",
      "   ---------------------------------------- 0.0/3.0 MB ? eta -:--:--\n",
      "   ------------- -------------------------- 1.0/3.0 MB 10.1 MB/s eta 0:00:01\n",
      "   ---------------------------------------- 3.0/3.0 MB 12.6 MB/s eta 0:00:00\n",
      "Installing collected packages: ngrok\n",
      "Successfully installed ngrok-1.4.0\n"
     ]
    }
   ],
   "source": [
    "!pip install pyngrok"
   ]
  },
  {
   "cell_type": "code",
   "execution_count": null,
   "metadata": {},
   "outputs": [
    {
     "name": "stdout",
     "output_type": "stream",
     "text": [
      "https://56ab-101-0-62-251.ngrok-free.app\n"
     ]
    }
   ],
   "source": [
    "from pyngrok import ngrok\n",
    "\n",
    "# Open a HTTP tunnel on the default port 80\n",
    "# This assumes you have a web server running locally on port 80\n",
    "# http_tunnel = ngrok.connect()\n",
    "public_url = ngrok.connect(5000).public_url\n",
    "\n",
    "# Print the public URL\n",
    "print(public_url)\n",
    "\n",
    "# Keep the script running\n",
    "ngrok_process = ngrok.get_ngrok_process()\n",
    "try:\n",
    "    # Block until CTRL-C or some other terminating event\n",
    "    ngrok_process.proc.wait()\n",
    "except KeyboardInterrupt:\n",
    "    print(\" Shutting down server.\")\n",
    "    ngrok.kill()"
   ]
  },
  {
   "cell_type": "code",
   "execution_count": 11,
   "metadata": {},
   "outputs": [
    {
     "name": "stdout",
     "output_type": "stream",
     "text": [
      "HL\n"
     ]
    }
   ],
   "source": [
    "def to_a1_notation(coordinates):\n",
    "    column_number, row_number = coordinates\n",
    "    column_letter = ''\n",
    "    \n",
    "    while column_number > 0:\n",
    "        column_number, remainder = divmod(column_number - 1, 26)\n",
    "        column_letter = chr(65 + remainder) + column_letter\n",
    "    \n",
    "    return f\"{column_letter}\"\n",
    "\n",
    "# Example usage\n",
    "coordinates = [220, 1]\n",
    "a1_notation = to_a1_notation(coordinates)\n",
    "print(a1_notation)  # Output: A1"
   ]
  },
  {
   "cell_type": "code",
   "execution_count": 10,
   "metadata": {},
   "outputs": [
    {
     "data": {
      "text/plain": [
       "True"
      ]
     },
     "execution_count": 10,
     "metadata": {},
     "output_type": "execute_result"
    }
   ],
   "source": [
    "a=\" npijn\"\n",
    "type(a)==str"
   ]
  },
  {
   "cell_type": "code",
   "execution_count": 16,
   "metadata": {},
   "outputs": [],
   "source": [
    "def create_script_project(service, spreadsheet_id):\n",
    "    body = {\n",
    "        'title': 'My Script Project',\n",
    "        'parentId': spreadsheet_id\n",
    "    }\n",
    "    request = service.projects().create(body=body)\n",
    "    response = request.execute()\n",
    "    return response['scriptId']"
   ]
  },
  {
   "cell_type": "code",
   "execution_count": null,
   "metadata": {},
   "outputs": [],
   "source": [
    "script_id = create_script_project(script_service, spreadsheet_id)\n"
   ]
  },
  {
   "cell_type": "code",
   "execution_count": 19,
   "metadata": {},
   "outputs": [],
   "source": [
    "SCOPES = [\n",
    "    'https://www.googleapis.com/auth/spreadsheets',\n",
    "    'https://www.googleapis.com/auth/script.projects',\n",
    "    'https://www.googleapis.com/auth/script.deployments',\n",
    "    'https://www.googleapis.com/auth/drive',\n",
    "    'https://www.googleapis.com/auth/script.external_request',\n",
    "    'https://www.googleapis.com/auth/script.scriptapp',\n",
    "    'https://www.googleapis.com/auth/script.send_mail',\n",
    "    'https://www.googleapis.com/auth/script.storage',\n",
    "    'https://www.googleapis.com/auth/script.webapp.deploy'\n",
    "]\n",
    "sheets_service = build('sheets', 'v4', credentials=creds)\n",
    "script_service = build('script', 'v1', credentials=creds)\n",
    "def update_script_content(service, script_id):\n",
    "    script_content = '''\n",
    "function onOpen() {\n",
    "  var ui = SpreadsheetApp.getUi();\n",
    "  ui.createMenu('Custom Menu')\n",
    "      .addItem('Say Hello', 'sayHello')\n",
    "      .addToUi();\n",
    "}\n",
    "\n",
    "function sayHello() {\n",
    "  var sheet = SpreadsheetApp.getActiveSpreadsheet().getActiveSheet();\n",
    "  sheet.getRange('A1').setValue('Hello, World!');\n",
    "}\n",
    "'''\n",
    "    request = service.projects().updateContent(\n",
    "        scriptId=script_id,\n",
    "        body={\n",
    "            'files': [{\n",
    "                'name': 'Code',\n",
    "                'type': 'SERVER_JS',\n",
    "                'source': script_content\n",
    "            }, {\n",
    "                'name': 'appsscript',\n",
    "                'type': 'JSON',\n",
    "                'source': '{\"timeZone\": \"America/New_York\", \"exceptionLogging\": \"CLOUD\"}'\n",
    "            }]\n",
    "        }\n",
    "    )\n",
    "    response = request.execute()\n",
    "    return response"
   ]
  },
  {
   "cell_type": "code",
   "execution_count": 20,
   "metadata": {},
   "outputs": [
    {
     "ename": "HttpError",
     "evalue": "<HttpError 403 when requesting https://script.googleapis.com/v1/projects/19fraBUiknpCZq-HNF1l33GRXbo7gthXPcQcV4_c7Vzn_pA35LrMAWRCZ/content?alt=json returned \"Request had insufficient authentication scopes.\". Details: \"[{'@type': 'type.googleapis.com/google.rpc.ErrorInfo', 'reason': 'ACCESS_TOKEN_SCOPE_INSUFFICIENT', 'domain': 'googleapis.com', 'metadata': {'service': 'script.googleapis.com', 'method': 'google.apps.script.management.v1.ProjectsService.UpdateContent'}}]\">",
     "output_type": "error",
     "traceback": [
      "\u001b[1;31m---------------------------------------------------------------------------\u001b[0m",
      "\u001b[1;31mHttpError\u001b[0m                                 Traceback (most recent call last)",
      "Cell \u001b[1;32mIn[20], line 2\u001b[0m\n\u001b[0;32m      1\u001b[0m \u001b[38;5;66;03m# script_id = create_script_project(script_service, \"1rHlxY6UsmL5xNiGDYLP5ne4hRxk0b8Tvj63hEs-H1xg\")\u001b[39;00m\n\u001b[1;32m----> 2\u001b[0m \u001b[43mupdate_script_content\u001b[49m\u001b[43m(\u001b[49m\u001b[43mscript_service\u001b[49m\u001b[43m,\u001b[49m\u001b[43m \u001b[49m\u001b[38;5;124;43m\"\u001b[39;49m\u001b[38;5;124;43m19fraBUiknpCZq-HNF1l33GRXbo7gthXPcQcV4_c7Vzn_pA35LrMAWRCZ\u001b[39;49m\u001b[38;5;124;43m\"\u001b[39;49m\u001b[43m)\u001b[49m\n",
      "Cell \u001b[1;32mIn[19], line 42\u001b[0m, in \u001b[0;36mupdate_script_content\u001b[1;34m(service, script_id)\u001b[0m\n\u001b[0;32m     15\u001b[0m     script_content \u001b[38;5;241m=\u001b[39m \u001b[38;5;124m'''\u001b[39m\n\u001b[0;32m     16\u001b[0m \u001b[38;5;124mfunction onOpen() \u001b[39m\u001b[38;5;124m{\u001b[39m\n\u001b[0;32m     17\u001b[0m \u001b[38;5;124m  var ui = SpreadsheetApp.getUi();\u001b[39m\n\u001b[1;32m   (...)\u001b[0m\n\u001b[0;32m     26\u001b[0m \u001b[38;5;124m}\u001b[39m\n\u001b[0;32m     27\u001b[0m \u001b[38;5;124m'''\u001b[39m\n\u001b[0;32m     28\u001b[0m     request \u001b[38;5;241m=\u001b[39m service\u001b[38;5;241m.\u001b[39mprojects()\u001b[38;5;241m.\u001b[39mupdateContent(\n\u001b[0;32m     29\u001b[0m         scriptId\u001b[38;5;241m=\u001b[39mscript_id,\n\u001b[0;32m     30\u001b[0m         body\u001b[38;5;241m=\u001b[39m{\n\u001b[1;32m   (...)\u001b[0m\n\u001b[0;32m     40\u001b[0m         }\n\u001b[0;32m     41\u001b[0m     )\n\u001b[1;32m---> 42\u001b[0m     response \u001b[38;5;241m=\u001b[39m \u001b[43mrequest\u001b[49m\u001b[38;5;241;43m.\u001b[39;49m\u001b[43mexecute\u001b[49m\u001b[43m(\u001b[49m\u001b[43m)\u001b[49m\n\u001b[0;32m     43\u001b[0m     \u001b[38;5;28;01mreturn\u001b[39;00m response\n",
      "File \u001b[1;32mc:\\Users\\Gaurav B V\\anaconda3\\envs\\myenv\\Lib\\site-packages\\googleapiclient\\_helpers.py:130\u001b[0m, in \u001b[0;36mpositional.<locals>.positional_decorator.<locals>.positional_wrapper\u001b[1;34m(*args, **kwargs)\u001b[0m\n\u001b[0;32m    128\u001b[0m     \u001b[38;5;28;01melif\u001b[39;00m positional_parameters_enforcement \u001b[38;5;241m==\u001b[39m POSITIONAL_WARNING:\n\u001b[0;32m    129\u001b[0m         logger\u001b[38;5;241m.\u001b[39mwarning(message)\n\u001b[1;32m--> 130\u001b[0m \u001b[38;5;28;01mreturn\u001b[39;00m \u001b[43mwrapped\u001b[49m\u001b[43m(\u001b[49m\u001b[38;5;241;43m*\u001b[39;49m\u001b[43margs\u001b[49m\u001b[43m,\u001b[49m\u001b[43m \u001b[49m\u001b[38;5;241;43m*\u001b[39;49m\u001b[38;5;241;43m*\u001b[39;49m\u001b[43mkwargs\u001b[49m\u001b[43m)\u001b[49m\n",
      "File \u001b[1;32mc:\\Users\\Gaurav B V\\anaconda3\\envs\\myenv\\Lib\\site-packages\\googleapiclient\\http.py:938\u001b[0m, in \u001b[0;36mHttpRequest.execute\u001b[1;34m(self, http, num_retries)\u001b[0m\n\u001b[0;32m    936\u001b[0m     callback(resp)\n\u001b[0;32m    937\u001b[0m \u001b[38;5;28;01mif\u001b[39;00m resp\u001b[38;5;241m.\u001b[39mstatus \u001b[38;5;241m>\u001b[39m\u001b[38;5;241m=\u001b[39m \u001b[38;5;241m300\u001b[39m:\n\u001b[1;32m--> 938\u001b[0m     \u001b[38;5;28;01mraise\u001b[39;00m HttpError(resp, content, uri\u001b[38;5;241m=\u001b[39m\u001b[38;5;28mself\u001b[39m\u001b[38;5;241m.\u001b[39muri)\n\u001b[0;32m    939\u001b[0m \u001b[38;5;28;01mreturn\u001b[39;00m \u001b[38;5;28mself\u001b[39m\u001b[38;5;241m.\u001b[39mpostproc(resp, content)\n",
      "\u001b[1;31mHttpError\u001b[0m: <HttpError 403 when requesting https://script.googleapis.com/v1/projects/19fraBUiknpCZq-HNF1l33GRXbo7gthXPcQcV4_c7Vzn_pA35LrMAWRCZ/content?alt=json returned \"Request had insufficient authentication scopes.\". Details: \"[{'@type': 'type.googleapis.com/google.rpc.ErrorInfo', 'reason': 'ACCESS_TOKEN_SCOPE_INSUFFICIENT', 'domain': 'googleapis.com', 'metadata': {'service': 'script.googleapis.com', 'method': 'google.apps.script.management.v1.ProjectsService.UpdateContent'}}]\">"
     ]
    }
   ],
   "source": [
    "# script_id = create_script_project(script_service, \"1rHlxY6UsmL5xNiGDYLP5ne4hRxk0b8Tvj63hEs-H1xg\")\n",
    "update_script_content(script_service, \"19fraBUiknpCZq-HNF1l33GRXbo7gthXPcQcV4_c7Vzn_pA35LrMAWRCZ\")\n"
   ]
  },
  {
   "cell_type": "code",
   "execution_count": null,
   "metadata": {},
   "outputs": [],
   "source": []
  },
  {
   "cell_type": "code",
   "execution_count": 21,
   "metadata": {},
   "outputs": [
    {
     "ename": "ValueError",
     "evalue": "Client secrets must be for a web or installed app.",
     "output_type": "error",
     "traceback": [
      "\u001b[1;31m---------------------------------------------------------------------------\u001b[0m",
      "\u001b[1;31mValueError\u001b[0m                                Traceback (most recent call last)",
      "Cell \u001b[1;32mIn[21], line 91\u001b[0m\n\u001b[0;32m     88\u001b[0m     \u001b[38;5;28mprint\u001b[39m(\u001b[38;5;124mf\u001b[39m\u001b[38;5;124m\"\u001b[39m\u001b[38;5;124mScript project created with ID: \u001b[39m\u001b[38;5;132;01m{\u001b[39;00mscript_id\u001b[38;5;132;01m}\u001b[39;00m\u001b[38;5;124m\"\u001b[39m)\n\u001b[0;32m     90\u001b[0m \u001b[38;5;28;01mif\u001b[39;00m \u001b[38;5;18m__name__\u001b[39m \u001b[38;5;241m==\u001b[39m \u001b[38;5;124m'\u001b[39m\u001b[38;5;124m__main__\u001b[39m\u001b[38;5;124m'\u001b[39m:\n\u001b[1;32m---> 91\u001b[0m     \u001b[43mmain\u001b[49m\u001b[43m(\u001b[49m\u001b[43m)\u001b[49m\n",
      "Cell \u001b[1;32mIn[21], line 80\u001b[0m, in \u001b[0;36mmain\u001b[1;34m()\u001b[0m\n\u001b[0;32m     79\u001b[0m \u001b[38;5;28;01mdef\u001b[39;00m \u001b[38;5;21mmain\u001b[39m():\n\u001b[1;32m---> 80\u001b[0m     creds \u001b[38;5;241m=\u001b[39m \u001b[43mget_credentials\u001b[49m\u001b[43m(\u001b[49m\u001b[43m)\u001b[49m\n\u001b[0;32m     81\u001b[0m     sheets_service \u001b[38;5;241m=\u001b[39m build(\u001b[38;5;124m'\u001b[39m\u001b[38;5;124msheets\u001b[39m\u001b[38;5;124m'\u001b[39m, \u001b[38;5;124m'\u001b[39m\u001b[38;5;124mv4\u001b[39m\u001b[38;5;124m'\u001b[39m, credentials\u001b[38;5;241m=\u001b[39mcreds)\n\u001b[0;32m     82\u001b[0m     script_service \u001b[38;5;241m=\u001b[39m build(\u001b[38;5;124m'\u001b[39m\u001b[38;5;124mscript\u001b[39m\u001b[38;5;124m'\u001b[39m, \u001b[38;5;124m'\u001b[39m\u001b[38;5;124mv1\u001b[39m\u001b[38;5;124m'\u001b[39m, credentials\u001b[38;5;241m=\u001b[39mcreds)\n",
      "Cell \u001b[1;32mIn[21], line 21\u001b[0m, in \u001b[0;36mget_credentials\u001b[1;34m()\u001b[0m\n\u001b[0;32m     19\u001b[0m     creds\u001b[38;5;241m.\u001b[39mrefresh(Request())\n\u001b[0;32m     20\u001b[0m \u001b[38;5;28;01melse\u001b[39;00m:\n\u001b[1;32m---> 21\u001b[0m     flow \u001b[38;5;241m=\u001b[39m \u001b[43mInstalledAppFlow\u001b[49m\u001b[38;5;241;43m.\u001b[39;49m\u001b[43mfrom_client_secrets_file\u001b[49m\u001b[43m(\u001b[49m\n\u001b[0;32m     22\u001b[0m \u001b[43m        \u001b[49m\u001b[38;5;124;43m'\u001b[39;49m\u001b[38;5;124;43mcredentials.json\u001b[39;49m\u001b[38;5;124;43m'\u001b[39;49m\u001b[43m,\u001b[49m\u001b[43m \u001b[49m\u001b[43mSCOPES\u001b[49m\u001b[43m)\u001b[49m\n\u001b[0;32m     23\u001b[0m     creds \u001b[38;5;241m=\u001b[39m flow\u001b[38;5;241m.\u001b[39mrun_local_server(port\u001b[38;5;241m=\u001b[39m\u001b[38;5;241m0\u001b[39m)\n\u001b[0;32m     24\u001b[0m \u001b[38;5;28;01mwith\u001b[39;00m \u001b[38;5;28mopen\u001b[39m(\u001b[38;5;124m'\u001b[39m\u001b[38;5;124mtoken.pickle\u001b[39m\u001b[38;5;124m'\u001b[39m, \u001b[38;5;124m'\u001b[39m\u001b[38;5;124mwb\u001b[39m\u001b[38;5;124m'\u001b[39m) \u001b[38;5;28;01mas\u001b[39;00m token:\n",
      "File \u001b[1;32mc:\\Users\\Gaurav B V\\anaconda3\\envs\\myenv\\Lib\\site-packages\\google_auth_oauthlib\\flow.py:201\u001b[0m, in \u001b[0;36mFlow.from_client_secrets_file\u001b[1;34m(cls, client_secrets_file, scopes, **kwargs)\u001b[0m\n\u001b[0;32m    198\u001b[0m \u001b[38;5;28;01mwith\u001b[39;00m \u001b[38;5;28mopen\u001b[39m(client_secrets_file, \u001b[38;5;124m\"\u001b[39m\u001b[38;5;124mr\u001b[39m\u001b[38;5;124m\"\u001b[39m) \u001b[38;5;28;01mas\u001b[39;00m json_file:\n\u001b[0;32m    199\u001b[0m     client_config \u001b[38;5;241m=\u001b[39m json\u001b[38;5;241m.\u001b[39mload(json_file)\n\u001b[1;32m--> 201\u001b[0m \u001b[38;5;28;01mreturn\u001b[39;00m \u001b[38;5;28;43mcls\u001b[39;49m\u001b[38;5;241;43m.\u001b[39;49m\u001b[43mfrom_client_config\u001b[49m\u001b[43m(\u001b[49m\u001b[43mclient_config\u001b[49m\u001b[43m,\u001b[49m\u001b[43m \u001b[49m\u001b[43mscopes\u001b[49m\u001b[38;5;241;43m=\u001b[39;49m\u001b[43mscopes\u001b[49m\u001b[43m,\u001b[49m\u001b[43m \u001b[49m\u001b[38;5;241;43m*\u001b[39;49m\u001b[38;5;241;43m*\u001b[39;49m\u001b[43mkwargs\u001b[49m\u001b[43m)\u001b[49m\n",
      "File \u001b[1;32mc:\\Users\\Gaurav B V\\anaconda3\\envs\\myenv\\Lib\\site-packages\\google_auth_oauthlib\\flow.py:159\u001b[0m, in \u001b[0;36mFlow.from_client_config\u001b[1;34m(cls, client_config, scopes, **kwargs)\u001b[0m\n\u001b[0;32m    157\u001b[0m     client_type \u001b[38;5;241m=\u001b[39m \u001b[38;5;124m\"\u001b[39m\u001b[38;5;124minstalled\u001b[39m\u001b[38;5;124m\"\u001b[39m\n\u001b[0;32m    158\u001b[0m \u001b[38;5;28;01melse\u001b[39;00m:\n\u001b[1;32m--> 159\u001b[0m     \u001b[38;5;28;01mraise\u001b[39;00m \u001b[38;5;167;01mValueError\u001b[39;00m(\u001b[38;5;124m\"\u001b[39m\u001b[38;5;124mClient secrets must be for a web or installed app.\u001b[39m\u001b[38;5;124m\"\u001b[39m)\n\u001b[0;32m    161\u001b[0m \u001b[38;5;66;03m# these args cannot be passed to requests_oauthlib.OAuth2Session\u001b[39;00m\n\u001b[0;32m    162\u001b[0m code_verifier \u001b[38;5;241m=\u001b[39m kwargs\u001b[38;5;241m.\u001b[39mpop(\u001b[38;5;124m\"\u001b[39m\u001b[38;5;124mcode_verifier\u001b[39m\u001b[38;5;124m\"\u001b[39m, \u001b[38;5;28;01mNone\u001b[39;00m)\n",
      "\u001b[1;31mValueError\u001b[0m: Client secrets must be for a web or installed app."
     ]
    }
   ],
   "source": [
    "from __future__ import print_function\n",
    "import pickle\n",
    "import os.path\n",
    "from googleapiclient.discovery import build\n",
    "from google_auth_oauthlib.flow import InstalledAppFlow\n",
    "from google.auth.transport.requests import Request\n",
    "\n",
    "# If modifying these scopes, delete the file token.pickle.\n",
    "SCOPES = ['https://www.googleapis.com/auth/spreadsheets',\n",
    "          'https://www.googleapis.com/auth/script.projects']\n",
    "\n",
    "def get_credentials():\n",
    "    creds = None\n",
    "    if os.path.exists('token.pickle'):\n",
    "        with open('token.pickle', 'rb') as token:\n",
    "            creds = pickle.load(token)\n",
    "    if not creds or not creds.valid:\n",
    "        if creds and creds.expired and creds.refresh_token:\n",
    "            creds.refresh(Request())\n",
    "        else:\n",
    "            flow = InstalledAppFlow.from_client_secrets_file(\n",
    "                'credentials.json', SCOPES)\n",
    "            creds = flow.run_local_server(port=0)\n",
    "        with open('token.pickle', 'wb') as token:\n",
    "            pickle.dump(creds, token)\n",
    "    return creds\n",
    "\n",
    "def create_spreadsheet(service):\n",
    "    spreadsheet = {\n",
    "        'properties': {\n",
    "            'title': 'My new spreadsheet'\n",
    "        }\n",
    "    }\n",
    "    spreadsheet = service.spreadsheets().create(body=spreadsheet,\n",
    "                                                fields='spreadsheetId').execute()\n",
    "    print(f\"Spreadsheet ID: {spreadsheet.get('spreadsheetId')}\")\n",
    "    return spreadsheet.get('spreadsheetId')\n",
    "\n",
    "def create_script_project(service, spreadsheet_id):\n",
    "    body = {\n",
    "        'title': 'My Script Project',\n",
    "        'parentId': spreadsheet_id\n",
    "    }\n",
    "    request = service.projects().create(body=body)\n",
    "    response = request.execute()\n",
    "    return response['scriptId']\n",
    "\n",
    "def update_script_content(service, script_id):\n",
    "    script_content = '''\n",
    "function onOpen() {\n",
    "  var ui = SpreadsheetApp.getUi();\n",
    "  ui.createMenu('Custom Menu')\n",
    "      .addItem('Say Hello', 'sayHello')\n",
    "      .addToUi();\n",
    "}\n",
    "\n",
    "function sayHello() {\n",
    "  var sheet = SpreadsheetApp.getActiveSpreadsheet().getActiveSheet();\n",
    "  sheet.getRange('A1').setValue('Hello, World!');\n",
    "}\n",
    "'''\n",
    "    request = service.projects().updateContent(\n",
    "        scriptId=script_id,\n",
    "        body={\n",
    "            'files': [{\n",
    "                'name': 'Code',\n",
    "                'type': 'SERVER_JS',\n",
    "                'source': script_content\n",
    "            }, {\n",
    "                'name': 'appsscript',\n",
    "                'type': 'JSON',\n",
    "                'source': '{\"timeZone\": \"America/New_York\", \"exceptionLogging\": \"CLOUD\"}'\n",
    "            }]\n",
    "        }\n",
    "    )\n",
    "    response = request.execute()\n",
    "    return response\n",
    "\n",
    "def main():\n",
    "    creds = get_credentials()\n",
    "    sheets_service = build('sheets', 'v4', credentials=creds)\n",
    "    script_service = build('script', 'v1', credentials=creds)\n",
    "\n",
    "    spreadsheet_id = create_spreadsheet(sheets_service)\n",
    "    script_id = create_script_project(script_service, spreadsheet_id)\n",
    "    update_script_content(script_service, script_id)\n",
    "\n",
    "    print(f\"Script project created with ID: {script_id}\")\n",
    "\n",
    "if __name__ == '__main__':\n",
    "    main()"
   ]
  }
 ],
 "metadata": {
  "kernelspec": {
   "display_name": "myenv",
   "language": "python",
   "name": "python3"
  },
  "language_info": {
   "codemirror_mode": {
    "name": "ipython",
    "version": 3
   },
   "file_extension": ".py",
   "mimetype": "text/x-python",
   "name": "python",
   "nbconvert_exporter": "python",
   "pygments_lexer": "ipython3",
   "version": "3.12.4"
  }
 },
 "nbformat": 4,
 "nbformat_minor": 2
}
